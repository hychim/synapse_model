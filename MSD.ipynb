{
 "cells": [
  {
   "cell_type": "code",
   "execution_count": 1,
   "metadata": {},
   "outputs": [],
   "source": [
    "import matplotlib\n",
    "import matplotlib.pyplot as plt\n",
    "import pandas as pd\n",
    "import numpy as np\n",
    "import os"
   ]
  },
  {
   "cell_type": "code",
   "execution_count": 2,
   "metadata": {},
   "outputs": [],
   "source": [
    "def autocorrFFT(x):\n",
    "  N=len(x)\n",
    "  F = np.fft.fft(x, n=2*N)  #2*N because of zero-padding\n",
    "  PSD = F * F.conjugate()\n",
    "  res = np.fft.ifft(PSD)\n",
    "  res= (res[:N]).real   #now we have the autocorrelation in convention B\n",
    "  n=N*np.ones(N)-np.arange(0,N) #divide res(m) by (N-m)\n",
    "  return res/n #this is the autocorrelation in convention A\n",
    "\n",
    "def msd_fft(r):\n",
    "  N=len(r)\n",
    "  D=np.square(r).sum(axis=1) \n",
    "  D=np.append(D,0) \n",
    "  S2=sum([autocorrFFT(r[:, i]) for i in range(r.shape[1])])\n",
    "  Q=2*D.sum()\n",
    "  S1=np.zeros(N)\n",
    "  for m in range(N):\n",
    "      Q=Q-D[m-1]-D[N-m]\n",
    "      S1[m]=Q/(N-m)\n",
    "  return S1-2*S2"
   ]
  },
  {
   "cell_type": "code",
   "execution_count": 3,
   "metadata": {},
   "outputs": [],
   "source": [
    "df = pd.read_excel(\"2Dtrajectory/3_1_2um cubic.xlsx\", index_col = 0)\n",
    "r = df[[\"X position (nm)\",\"Y position (nm)\"]]\n",
    "r = r.to_numpy()"
   ]
  },
  {
   "cell_type": "code",
   "execution_count": 4,
   "metadata": {},
   "outputs": [
    {
     "data": {
      "text/plain": [
       "array([2.38418579e-07, 1.21620470e+05, 2.95822593e+05, ...,\n",
       "       2.52946685e+08, 2.58732641e+08, 2.66905716e+08])"
      ]
     },
     "execution_count": 4,
     "metadata": {},
     "output_type": "execute_result"
    }
   ],
   "source": [
    "msd_fft(r)"
   ]
  },
  {
   "cell_type": "code",
   "execution_count": 5,
   "metadata": {},
   "outputs": [
    {
     "data": {
      "text/plain": [
       "[<matplotlib.lines.Line2D at 0x7efce91fa4c0>]"
      ]
     },
     "execution_count": 5,
     "metadata": {},
     "output_type": "execute_result"
    },
    {
     "data": {
      "image/png": "[encoded data removed]",
      "text/plain": [
       "<Figure size 432x288 with 1 Axes>"
      ]
     },
     "metadata": {
      "needs_background": "light"
     },
     "output_type": "display_data"
    }
   ],
   "source": [
    "plt.plot(df.index, msd_fft(r))"
   ]
  },
  {
   "cell_type": "code",
   "execution_count": 6,
   "metadata": {},
   "outputs": [
    {
     "data": {
      "text/plain": [
       "array([2.38418579e-07, 1.21620470e+05, 2.95822593e+05, ...,\n",
       "       2.52946685e+08, 2.58732641e+08, 2.66905716e+08])"
      ]
     },
     "execution_count": 6,
     "metadata": {},
     "output_type": "execute_result"
    }
   ],
   "source": [
    "msd_fft(r)"
   ]
  }
 ],
 "metadata": {
  "kernelspec": {
   "display_name": "Python 3",
   "language": "python",
   "name": "python3"
  },
  "language_info": {
   "codemirror_mode": {
    "name": "ipython",
    "version": 3
   },
   "file_extension": ".py",
   "mimetype": "text/x-python",
   "name": "python",
   "nbconvert_exporter": "python",
   "pygments_lexer": "ipython3",
   "version": "3.8.3"
  }
 },
 "nbformat": 4,
 "nbformat_minor": 4
}
