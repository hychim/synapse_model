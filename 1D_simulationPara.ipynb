{
 "cells": [
  {
   "cell_type": "markdown",
   "metadata": {},
   "source": [
    "test for 2D simulation\n",
    "\n",
    "Ornstein-Uhlenbeck process:\n",
    "Xn - Xn-1 = theta*(mu-y)* dt + sigma* noise\n",
    "\n",
    "drift term = theta*(mu-y)\n",
    "\n",
    "diffusion term = sigma * noise"
   ]
  },
  {
   "cell_type": "markdown",
   "metadata": {},
   "source": [
    "2D simulation:\n",
    "Xn - Xn-1 = D(Xn-1, Yn-1)F(Xn-1, Yn-1)dt - (2Ddt)^1/2 N(0,1)\n",
    "\n",
    "drift term = D(r)F(r)* dt\n",
    "\n",
    "diffusion term = np.sqrt(2Ddt)* noise\n"
   ]
  },
  {
   "cell_type": "markdown",
   "metadata": {},
   "source": [
    "# 1D simulation"
   ]
  },
  {
   "cell_type": "code",
   "execution_count": null,
   "metadata": {},
   "outputs": [],
   "source": [
    "import math\n",
    "import numpy as np                  # numpy\n",
    "import pandas as pd\n",
    "import seaborn as sns               # for probability distribution\n",
    "\n",
    "import matplotlib.pyplot as plt     # pyplot\n",
    "from matplotlib import cm           # colormap\n",
    "from matplotlib.collections import LineCollection\n",
    "from matplotlib.colors import ListedColormap, BoundaryNorm, LogNorm\n",
    "\n",
    "\n",
    "plt.rcParams[\"figure.figsize\"] = (20,10) #make graph larger"
   ]
  },
  {
   "cell_type": "code",
   "execution_count": null,
   "metadata": {},
   "outputs": [],
   "source": [
    "#para well\n",
    "def DiffCoef_Para(x):\n",
    "    # x_eff = mod(x+L, 2*L) - L\n",
    "    # in matlab only\n",
    "    # x_eff = (x+L)%(2*L) - L\n",
    "    if np.absolute(x) >= a:\n",
    "        D = D_out\n",
    "    elif a > np.absolute(x):\n",
    "        D = (D_out - D_in) * (x**2)/(a**2) + D_in\n",
    "    return D\n",
    "\n",
    "def Potential_Para(x):\n",
    "    # periodic well\n",
    "    # x_eff = (x+L)%(2*L) - L\n",
    "    if np.absolute(x) >= a:\n",
    "        V = V_out\n",
    "    elif a > np.absolute(x):\n",
    "        V = (V_out - V_in) * (x**2)/(a**2) + V_in\n",
    "    return V\n",
    "\n",
    "#need some modifications in higher dimensions simulations\n",
    "#since force is vector in higher dimensions (for 3D, it should be a 3*3*3 array instead of a list)\n",
    "def Force_Para(x): \n",
    "    # periodic well\n",
    "    # x_eff = (x+L)%(2*L) - L\n",
    "    if a > np.absolute(x):\n",
    "        f = -(V_out - V_in) * (2*x)/(a**2)\n",
    "    else:\n",
    "        f = 0\n",
    "    return f\n",
    "\n",
    "# cell properties\n",
    "def bound(x2):      # assume the particle would bounce one times only\n",
    "    x = x2 - (np.sign(x2) * L)\n",
    "    x2 = np.sign(x2) * L - x\n",
    "    return x2\n",
    "def real_bound(x2): # particle will move from one side to another side of the cell, treat cell as a continious surface\n",
    "    x = -np.sign(x2)*L + (x2 - np.sign(x2)*L)\n",
    "    return x\n",
    "\n",
    "# MSD\n",
    "# https://stackoverflow.com/questions/34222272/computing-mean-square-displacement-using-python-and-fft\n",
    "\n",
    "def msd_straight_forward(r):\n",
    "    shifts = np.arange(len(r))\n",
    "    msds = np.zeros(shifts.size)    \n",
    "\n",
    "    for i, shift in enumerate(shifts):\n",
    "        diffs = r[:-shift if shift else None] - r[shift:]\n",
    "        sqdist = np.square(diffs).sum(axis=1)\n",
    "        msds[i] = sqdist.mean()\n",
    "    return msds\n",
    "    \n",
    "def autocorrFFT(x):\n",
    "  N=len(x)\n",
    "  F = np.fft.fft(x, n=2*N)  #2*N because of zero-padding\n",
    "  PSD = F * F.conjugate()\n",
    "  res = np.fft.ifft(PSD)\n",
    "  res= (res[:N]).real   #now we have the autocorrelation in convention B\n",
    "  n=N*np.ones(N)-np.arange(0,N) #divide res(m) by (N-m)\n",
    "  return res/n #this is the autocorrelation in convention A\n",
    "\n",
    "def msd_fft(r):\n",
    "  N=len(r)\n",
    "  D=np.square(r).sum(axis=1) \n",
    "  D=np.append(D,0) \n",
    "  S2=sum([autocorrFFT(r[:, i]) for i in range(r.shape[1])])\n",
    "  Q=2*D.sum()\n",
    "  S1=np.zeros(N)\n",
    "  for m in range(N):\n",
    "      Q=Q-D[m-1]-D[N-m]\n",
    "      S1[m]=Q/(N-m)\n",
    "  return S1-2*S2\n",
    "  "
   ]
  },
  {
   "cell_type": "code",
   "execution_count": null,
   "metadata": {},
   "outputs": [],
   "source": [
    "D_out = 1           # diffusivity outside the well\n",
    "D_in = 0.5          # diffusivity inside the well, impossible to have 0 diffusivity\n",
    "V_out = 0           # potential energy outside the well\n",
    "V_in = -3           # potential energy inside the well, from other paper lab data\n",
    "a = 2               # well size\n",
    "L = 5               # \"cell\" size\n",
    "\n",
    "t_0 = 0             # start time\n",
    "t_end = 20          # end time\n",
    "length = 2000       # number of time division\n",
    "test_number = 100   # number of protein\n",
    "\n",
    "hist_range = 10      # for distribution\n",
    "\n",
    "well_number = 3     # number of well, still testing\n",
    "\n",
    "t = np.linspace(t_0, t_end, length)\n",
    "dt = np.mean (np.diff(t))\n",
    "x_Para = np.zeros((test_number, length))\n",
    "y_Para = np.zeros((test_number, length))\n",
    "D_Para = np.zeros((test_number, length))\n",
    "V_Para = np.zeros((test_number, length))\n",
    "P_Para = np.zeros((test_number, length))\n",
    "x_Para_plot = np.zeros((test_number, length))\n",
    "y_Para_plot = np.zeros((test_number, length))\n",
    "for j in range(test_number,0):\n",
    "    x_Para[0,j] = np.random.normal(loc = 0.0, scale = 1.0) #add x_Para_plot and y_Para_plot\n",
    "    y_Para[0,j] = np.random.normal(loc = 0.0, scale = 1.0)"
   ]
  },
  {
   "cell_type": "code",
   "execution_count": null,
   "metadata": {},
   "outputs": [],
   "source": [
    "x_noise = np.random.normal(loc = 0.0, scale = 1.0, size = (test_number, length))*np.sqrt(dt)\n",
    "y_noise = np.random.normal(loc = 0.0, scale = 1.0, size = (test_number, length))*np.sqrt(dt)"
   ]
  },
  {
   "cell_type": "code",
   "execution_count": null,
   "metadata": {},
   "outputs": [],
   "source": [
    "# for 1D only\n",
    "\"\"\"\n",
    "for i in range(0, test_number):\n",
    "    for j in range (1,length):\n",
    "        x_Para[i,j] = x_Para[i,j-1] + DiffCoef_Para(x_Para[i,j-1]) * Force_Para(x_Para[i,j-1]) * dt + \\\n",
    "        np.sqrt(2.0 * DiffCoef_Para(x_Para[i,j-1])) * x_noise[i,j]\n",
    "        y_Para[i,j] = y_Para[i,j-1] + DiffCoef_Para(y_Para[i,j-1]) * Force_Para(y_Para[i,j-1]) * dt + \\\n",
    "        np.sqrt(2.0 * DiffCoef_Para(y_Para[i,j-1])) * y_noise[i,j]\n",
    "\n",
    "        if np.absolute(x_Para[i,j]) > L:\n",
    "            x_Para[i,j] = real_bound(x_Para[i, j])\n",
    "        if np.absolute(y_Para[i,j]) > L:\n",
    "            y_Para[i,j] = real_bound(y_Para[i, j])\n",
    "\n",
    "for i in range(0, test_number): #para_plot for plotting the mean plot, not the trajectories plot\n",
    "    for j in range (1,length):\n",
    "        x_Para_plot[i,j] = x_Para_plot[i,j-1] + DiffCoef_Para(x_Para_plot[i,j-1]) * Force_Para(x_Para_plot[i,j-1]) * dt + \\\n",
    "        np.sqrt(2.0 * DiffCoef_Para(x_Para_plot[i,j-1])) * x_noise[i,j]\n",
    "        y_Para_plot[i,j] = y_Para_plot[i,j-1] + DiffCoef_Para(y_Para_plot[i,j-1]) * Force_Para(y_Para_plot[i,j-1]) * dt + \\\n",
    "        np.sqrt(2.0 * DiffCoef_Para(y_Para_plot[i,j-1])) * y_noise[i,j]\n",
    "\"\"\"\n",
    "\n",
    "# for 2D only\n",
    "# x_Para_plot is limited within [-L, L)\n",
    "# x_Para is not limited but only having one well in [-a,a]\n",
    "\n",
    "for i in range(0, test_number):\n",
    "    for j in range (1,length):\n",
    "        r = np.sqrt((x_Para_plot[i, j-1]**2) + (y_Para_plot[i, j-1]**2))\n",
    "        x_Para_plot[i,j] = x_Para_plot[i,j-1] + DiffCoef_Para(r) * (x_Para_plot[i, j-1]/a * Force_Para(r)) * dt + \\\n",
    "        np.sqrt(2.0 * DiffCoef_Para(r)) * x_noise[i,j]\n",
    "        y_Para_plot[i,j] = y_Para_plot[i,j-1] + DiffCoef_Para(r) * (y_Para_plot[i, j-1]/a * Force_Para(r)) * dt + \\\n",
    "        np.sqrt(2.0 * DiffCoef_Para(r)) * y_noise[i,j]\n",
    "        \n",
    "        if np.absolute(x_Para_plot[i,j]) > L:\n",
    "            x_Para_plot[i,j] = real_bound(x_Para_plot[i, j])\n",
    "        if np.absolute(y_Para_plot[i,j]) > L:\n",
    "            y_Para_plot[i,j] = real_bound(y_Para_plot[i, j])\n",
    "\n",
    "for i in range(0, test_number): #para_plot for plotting the mean plot, not the trajectories plot\n",
    "    for j in range (1,length):\n",
    "        x_eff = (x_Para[i, j-1]+L)%(2*L) - L #use a function to compute x_eff\n",
    "        y_eff = (y_Para[i, j-1]+L)%(2*L) - L\n",
    "        r = np.sqrt((x_eff**2) + (y_eff**2))\n",
    "        x_Para[i,j] = x_Para[i,j-1] + DiffCoef_Para(r) * (x_eff/a * Force_Para(r)) * dt + \\\n",
    "        np.sqrt(2.0 * DiffCoef_Para(r)) * x_noise[i,j]\n",
    "        y_Para[i,j] = y_Para[i,j-1] + DiffCoef_Para(r) * (y_eff/a * Force_Para(r)) * dt + \\\n",
    "        np.sqrt(2.0 * DiffCoef_Para(r)) * y_noise[i,j]"
   ]
  },
  {
   "cell_type": "code",
   "execution_count": null,
   "metadata": {},
   "outputs": [],
   "source": [
    "for i in range(test_number):\n",
    "    plt.title(\"x_Para\", fontsize = 25)\n",
    "    plt.plot(t,x_Para[i], \".\")\n",
    "    plt.ylim(-15, 15)\n",
    "# plt.legend(np.arange(test_number), loc = 1, bbox_to_anchor = (1.05, 1))"
   ]
  },
  {
   "cell_type": "code",
   "execution_count": null,
   "metadata": {},
   "outputs": [],
   "source": [
    "for i in range(test_number):\n",
    "    plt.title(\"x_Para_plot\", fontsize = 25)\n",
    "    plt.plot(t,x_Para_plot[i], \".\")\n",
    "    plt.ylim(-6, 6)\n",
    "# plt.legend(np.arange(test_number), loc = 1, bbox_to_anchor = (1.05, 1))"
   ]
  },
  {
   "cell_type": "code",
   "execution_count": null,
   "metadata": {},
   "outputs": [],
   "source": [
    "for i in range(test_number):\n",
    "    plt.title(\"y_Para\", fontsize = 25)\n",
    "    plt.plot(t,y_Para[i], \".\")\n",
    "    plt.ylim(-15, 15)\n",
    "# plt.legend(np.arange(test_number), loc = 1, bbox_to_anchor = (1.05, 1))"
   ]
  },
  {
   "cell_type": "code",
   "execution_count": null,
   "metadata": {},
   "outputs": [],
   "source": [
    "for i in range(test_number):\n",
    "    plt.title(\"y_Para_plot\", fontsize = 25)\n",
    "    plt.plot(t,y_Para_plot[i], \".\")\n",
    "    plt.ylim(-6, 6)\n",
    "# plt.legend(np.arange(test_number), loc = 1, bbox_to_anchor = (1.05, 1))"
   ]
  },
  {
   "cell_type": "markdown",
   "metadata": {},
   "source": [
    "# 2D simulation"
   ]
  },
  {
   "cell_type": "code",
   "execution_count": null,
   "metadata": {},
   "outputs": [],
   "source": [
    "plt.rcParams[\"figure.figsize\"] = (12, 10)\n",
    "\n",
    "\"\"\"\n",
    "there is error in this plot, the well will become any position that -2<x<2 or -2<y<2, instead of -2<x<2 and -2<y<2, \n",
    "it will be cross shape well but not square shape well\n",
    "\"\"\"\n",
    "\n",
    "points = np.array([x_Para[0], y_Para[0]]).T.reshape(-1, 1, 2)\n",
    "segments = np.concatenate([points[:-1], points[1:]], axis=1)\n",
    "fig, ax = plt.subplots()\n",
    "norm = plt.Normalize(t.min(), t.max())\n",
    "lc = LineCollection(segments, cmap=\"inferno\", norm=norm)\n",
    "lc.set_array(t)\n",
    "lc.set_linewidth(2)\n",
    "line = ax.add_collection(lc)\n",
    "plt.colorbar(line, ax=ax)\n",
    "\n",
    "ax.set_xlim(-5, 5)\n",
    "ax.set_ylim(-5, 5)\n",
    "plt.show()"
   ]
  },
  {
   "cell_type": "code",
   "execution_count": null,
   "metadata": {},
   "outputs": [],
   "source": [
    "plt.rcParams[\"figure.figsize\"] = (20, 10)\n",
    "\n",
    "x_Para_mean = np.zeros((1, length))\n",
    "for i in range(length):\n",
    "    x_Para_mean[0,i] = x_Para[:, i].mean()\n",
    "\n",
    "plt.plot(t, x_Para_mean[0,:], label = \"para mean\")\n",
    "plt.ylim(-5.5, 5.5)"
   ]
  },
  {
   "cell_type": "markdown",
   "metadata": {},
   "source": [
    "# Distribution and Prediction"
   ]
  },
  {
   "cell_type": "code",
   "execution_count": null,
   "metadata": {},
   "outputs": [],
   "source": [
    "#prediction\n",
    "predict_length = 1000\n",
    "\n",
    "x_predict = np.linspace(-5, 5, num = predict_length)\n",
    "y_predict = np.linspace(-5, 5, num = predict_length)\n",
    "r_predict = np.zeros(predict_length)\n",
    "d_predict = np.zeros(predict_length)\n",
    "v_predict = np.zeros(predict_length)\n",
    "p1_predict = np.zeros(predict_length)\n",
    "p2_predict = np.zeros(predict_length)\n",
    "\n",
    "r_predict = np.sqrt(x_predict**2 + y_predict**2)\n",
    "\n",
    "for n in range(len(r_predict)):\n",
    "    if r_predict[n] > 2 or r_predict[n] < -2:\n",
    "        d_predict[n] = D_out\n",
    "    else:\n",
    "        d_predict[n] = (D_out-D_in)*(r_predict[n]**2/a**2) + D_in\n",
    "for n in range(len(r_predict)):\n",
    "    if r_predict[n] > 2 or r_predict[n] < -2:\n",
    "        v_predict[n] = V_out\n",
    "    else:\n",
    "        v_predict[n] = (V_out-V_in)*(r_predict[n]**2/a**2) + V_in\n",
    "\n",
    "for n in range(len(r_predict)):\n",
    "    p1_predict[n] = math.exp(-v_predict[n])/d_predict[n]\n",
    "\n",
    "\n",
    "# for normalization\n",
    "for n in range(len(p1_predict)-1):\n",
    "    p2_predict[n] = p1_predict[n]/np.sum(p1_predict)"
   ]
  },
  {
   "cell_type": "code",
   "execution_count": null,
   "metadata": {
    "scrolled": false
   },
   "outputs": [],
   "source": [
    "# https://stackoverflow.com/questions/61881175/normed-histogram-y-axis-larger-than-1\n",
    "\n",
    "dist_temp_t0  = np.hstack((x_Para_plot[:,int(length*0.00) + i] for i in range(hist_range)))\n",
    "dist_temp_t5  = np.hstack((x_Para_plot[:,int(length*0.25) + i] for i in range(hist_range)))\n",
    "dist_temp_t10 = np.hstack((x_Para_plot[:,int(length*0.50) + i] for i in range(hist_range)))\n",
    "dist_temp_t15 = np.hstack((x_Para_plot[:,int(length*0.75) + i] for i in range(hist_range)))\n",
    "dist_temp_t20 = np.hstack((x_Para_plot[:,int(length*1.00 - hist_range) + i] for i in range(hist_range)))\n",
    "\n",
    "plt.rcParams[\"figure.figsize\"] = (20,10)\n",
    "\n",
    "fig, axs = plt.subplots(2,3)\n",
    "\n",
    "for (m,n), subplot in np.ndenumerate(axs):\n",
    "    subplot.set_xlim(-L, L)\n",
    "    subplot.set_ylim(0, 1)\n",
    "    axs[m,n].set(xlabel='position', ylabel='frequency')\n",
    "\n",
    "sns.distplot(dist_temp_t0 , bins = np.arange(-5, 5, 1), norm_hist = True, kde = False ,ax = axs[0, 0])\n",
    "axs[0, 0].set_title('t=0s')\n",
    "sns.distplot(dist_temp_t5 , bins = np.arange(-5, 5, 1), norm_hist = True, kde = True , ax = axs[0, 1])\n",
    "axs[0, 1].set_title('t=5s')\n",
    "sns.distplot(dist_temp_t10, bins = np.arange(-5, 5, 1), norm_hist = True, kde = True , ax = axs[0, 2])\n",
    "axs[0, 2].set_title('t=10s')\n",
    "sns.distplot(dist_temp_t15, bins = np.arange(-5, 5, 1), norm_hist = True, kde = True , ax = axs[1, 0])\n",
    "axs[1, 0].set_title('t=15s')\n",
    "sns.distplot(dist_temp_t20, bins = np.arange(-5, 5, 1), norm_hist = True, kde = True , ax = axs[1, 1])\n",
    "axs[1, 1].set_title('t=20s')\n",
    "#subplot.set_ylim(0, 100) #for prediction plot only\n",
    "axs[1, 2].plot(x_predict, p1_predict * 0.01) #p1_predict is oringinal, p2_predict is normalized???\n",
    "axs[1, 2].set_title('prediction')\n",
    "\n",
    "plt.suptitle('x_Para_plot', size  = 20)"
   ]
  },
  {
   "cell_type": "code",
   "execution_count": null,
   "metadata": {},
   "outputs": [],
   "source": [
    "dist_temp_t0  = np.hstack((x_Para[:,int(length*0.00) + i] for i in range(hist_range)))\n",
    "dist_temp_t5  = np.hstack((x_Para[:,int(length*0.25) + i] for i in range(hist_range)))\n",
    "dist_temp_t10 = np.hstack((x_Para[:,int(length*0.50) + i] for i in range(hist_range)))\n",
    "dist_temp_t15 = np.hstack((x_Para[:,int(length*0.75) + i] for i in range(hist_range)))\n",
    "dist_temp_t20 = np.hstack((x_Para[:,int(length*1.00 - hist_range) + i] for i in range(hist_range)))\n",
    "\n",
    "plt.rcParams[\"figure.figsize\"] = (20,10)\n",
    "\n",
    "fig, axs = plt.subplots(2,3)\n",
    "\n",
    "for (m,n), subplot in np.ndenumerate(axs):\n",
    "    subplot.set_xlim(-L, L)\n",
    "    subplot.set_ylim(0, 1)\n",
    "    axs[m,n].set(xlabel='position', ylabel='frequency')\n",
    "\n",
    "sns.distplot(dist_temp_t0 , bins = np.arange(-5, 5, 1), norm_hist = True, kde = False ,ax = axs[0, 0])\n",
    "axs[0, 0].set_title('t=0s')\n",
    "sns.distplot(dist_temp_t5 , bins = np.arange(-5, 5, 1), norm_hist = True, kde = True , ax = axs[0, 1])\n",
    "axs[0, 1].set_title('t=5s')\n",
    "sns.distplot(dist_temp_t10, bins = np.arange(-5, 5, 1), norm_hist = True, kde = True , ax = axs[0, 2])\n",
    "axs[0, 2].set_title('t=10s')\n",
    "sns.distplot(dist_temp_t15, bins = np.arange(-5, 5, 1), norm_hist = True, kde = True , ax = axs[1, 0])\n",
    "axs[1, 0].set_title('t=15s')\n",
    "sns.distplot(dist_temp_t20, bins = np.arange(-5, 5, 0.2), norm_hist = True, kde = True , ax = axs[1, 1])\n",
    "axs[1, 1].set_title('t=20s')\n",
    "#subplot.set_ylim(0, 100) #for prediction plot only\n",
    "axs[1, 2].plot(x_predict, p1_predict * 0.01) #p1_predict is oringinal, p2_predict is normalized???\n",
    "axs[1, 2].set_title('prediction')\n",
    "\n",
    "plt.suptitle('x_Para', size  = 20)"
   ]
  },
  {
   "cell_type": "code",
   "execution_count": null,
   "metadata": {},
   "outputs": [],
   "source": [
    "# 2D hist plot\n",
    "# https://stackoverflow.com/questions/24523670/how-do-i-use-colorbar-with-hist2d-in-matplotlib-pyplot\n",
    "# https://matplotlib.org/3.1.1/api/_as_gen/matplotlib.pyplot.hist2d.html\n",
    "# https://matplotlib.org/3.1.1/gallery/axes_grid1/scatter_hist_locatable_axes.html#sphx-glr-gallery-axes-grid1-scatter-hist-locatable-axes-py\n",
    "#for i in np.arange(30):\n",
    "#    plt.hist2d(x_Para[i, 500], y_Para[i, 500])\n",
    "\n",
    "plt.rcParams[\"figure.figsize\"] = (13,10)\n",
    "h = plt.hist2d(x_Para[:, 600], y_Para[:, 600])\n",
    "plt.colorbar(h[3])\n",
    "plt.xlim(-15,15)\n",
    "plt.ylim(-15,15)"
   ]
  },
  {
   "cell_type": "code",
   "execution_count": null,
   "metadata": {},
   "outputs": [],
   "source": [
    "'''\n",
    "plt.rcParams[\"figure.figsize\"] = (13,10)\n",
    "h = plt.hist2d(x_Para[:, 600], y_Para[:, 600])\n",
    "plt.colorbar(h[3])\n",
    "plt.xlim(-15,15)\n",
    "plt.ylim(-15,15)\n",
    "'''"
   ]
  },
  {
   "cell_type": "markdown",
   "metadata": {},
   "source": [
    "# MSD"
   ]
  },
  {
   "cell_type": "code",
   "execution_count": null,
   "metadata": {},
   "outputs": [],
   "source": [
    "msd_all = np.zeros((test_number,length))\n",
    "msd_mean = np.zeros(length)\n",
    "for i in np.arange(test_number):\n",
    "    msd = msd_fft(np.vstack((x_Para[i], y_Para[i])).T)\n",
    "    msd_all[i] = msd\n",
    "    plt.plot(np.arange(len(msd)),msd)\n",
    "# plt.xlim(0, 500)\n",
    "#plt.ylim(0, 20)\n",
    "# plt.legend(np.arange(test_number), loc = 1, bbox_to_anchor = (1.05, 1))\n",
    "plt.title(\"x_Para\")"
   ]
  },
  {
   "cell_type": "code",
   "execution_count": null,
   "metadata": {},
   "outputs": [],
   "source": [
    "for n in range(length):\n",
    "    msd_mean[n] = np.mean(msd_all[:,n])"
   ]
  },
  {
   "cell_type": "code",
   "execution_count": null,
   "metadata": {},
   "outputs": [],
   "source": [
    "plt.plot(np.arange(len(msd_mean)),msd_mean)\n",
    "plt.xlim(0, 100)\n",
    "plt.ylim(0, 5)\n",
    "plt.plot((0,100),(0,2))"
   ]
  },
  {
   "cell_type": "code",
   "execution_count": null,
   "metadata": {},
   "outputs": [],
   "source": [
    "# https://stackoverflow.com/questions/9538525/calculating-slopes-in-numpy-or-scipy\n",
    "# https://math.stackexchange.com/questions/2565098/vector-notation-for-the-slope-of-a-line-using-simple-regression/2642719#2642719\n",
    "\n",
    "msd_mean_lr_x = np.arange(len(msd_mean)) - np.mean(np.arange(len(msd_mean)))\n",
    "msd_mean_lr_y = msd_mean - np.mean(msd_mean)\n",
    "slope = (msd_mean_lr_x.dot(msd_mean_lr_y)) / (msd_mean_lr_x.dot(msd_mean_lr_x))  #wrong some time?"
   ]
  },
  {
   "cell_type": "code",
   "execution_count": null,
   "metadata": {},
   "outputs": [],
   "source": [
    "slope"
   ]
  },
  {
   "cell_type": "code",
   "execution_count": null,
   "metadata": {},
   "outputs": [],
   "source": [
    "msd_all = np.zeros((test_number,length))\n",
    "msd_mean = np.zeros(length)\n",
    "for i in np.arange(test_number):\n",
    "    msd = msd_fft(np.vstack((x_Para_plot[i], y_Para_plot[i])).T)\n",
    "    msd_all[i] = msd\n",
    "    plt.plot(np.arange(len(msd)),msd)\n",
    "# plt.xlim(0, 500)\n",
    "#plt.ylim(0, 20)\n",
    "# plt.legend(np.arange(test_number), loc = 1, bbox_to_anchor = (1.05, 1))\n",
    "plt.title(\"x_Para_plot\")"
   ]
  },
  {
   "cell_type": "code",
   "execution_count": null,
   "metadata": {},
   "outputs": [],
   "source": [
    "for n in range(length):\n",
    "    msd_mean[n] = np.mean(msd_all[:,n])"
   ]
  },
  {
   "cell_type": "code",
   "execution_count": null,
   "metadata": {},
   "outputs": [],
   "source": [
    "plt.plot(np.arange(len(msd_mean)),msd_mean)\n",
    "plt.xlim(0, 500)\n",
    "plt.ylim(0, 20)"
   ]
  },
  {
   "cell_type": "code",
   "execution_count": null,
   "metadata": {},
   "outputs": [],
   "source": [
    "msd_mean_lr_x = np.arange(len(msd_mean[0:300])) - np.mean(np.arange(len(msd_mean[0:300])))\n",
    "msd_mean_lr_y = msd_mean[0:300] - np.mean(msd_mean[0:300])\n",
    "slope = (msd_mean_lr_x.dot(msd_mean_lr_y)) / (msd_mean_lr_x.dot(msd_mean_lr_x))"
   ]
  },
  {
   "cell_type": "code",
   "execution_count": null,
   "metadata": {},
   "outputs": [],
   "source": [
    "slope"
   ]
  },
  {
   "cell_type": "code",
   "execution_count": null,
   "metadata": {},
   "outputs": [],
   "source": []
  }
 ],
 "metadata": {
  "kernelspec": {
   "display_name": "Python 3 (ipykernel)",
   "language": "python",
   "name": "python3"
  },
  "language_info": {
   "codemirror_mode": {
    "name": "ipython",
    "version": 3
   },
   "file_extension": ".py",
   "mimetype": "text/x-python",
   "name": "python",
   "nbconvert_exporter": "python",
   "pygments_lexer": "ipython3",
   "version": "3.8.12"
  }
 },
 "nbformat": 4,
 "nbformat_minor": 4
}
